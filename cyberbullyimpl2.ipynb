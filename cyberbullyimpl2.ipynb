{
 "cells": [
  {
   "cell_type": "code",
   "execution_count": 23,
   "id": "ef60ec2e",
   "metadata": {},
   "outputs": [],
   "source": [
    "from transformers import DistilBertTokenizer\n",
    "from transformers import TFDistilBertForSequenceClassification\n",
    "from transformers import TextClassificationPipeline\n",
    "\n",
    "import tensorflow as tf\n",
    "import pandas as pd\n",
    "import json\n",
    "import gc\n",
    "\n",
    "from sklearn.model_selection import train_test_split\n",
    "import nltk\n",
    "from nltk.corpus import stopwords\n",
    "\n",
    "\n",
    "import seaborn as sns\n",
    "import matplotlib.pyplot as plt\n",
    "#from plotly.offline import iplot\n",
    "\n",
    "from tqdm import tqdm"
   ]
  },
  {
   "cell_type": "code",
   "execution_count": 24,
   "id": "61429b11",
   "metadata": {},
   "outputs": [],
   "source": [
    "data = \"/Users/pratham/Documents/Documents - Pratham’s MacBook Pro/pracfor2025/mfg_project/cyberbullying_detector/data/cyberbullying_tweets.csv\""
   ]
  },
  {
   "cell_type": "code",
   "execution_count": 25,
   "id": "0c7d50ba",
   "metadata": {},
   "outputs": [
    {
     "data": {
      "text/html": [
       "<div>\n",
       "<style scoped>\n",
       "    .dataframe tbody tr th:only-of-type {\n",
       "        vertical-align: middle;\n",
       "    }\n",
       "\n",
       "    .dataframe tbody tr th {\n",
       "        vertical-align: top;\n",
       "    }\n",
       "\n",
       "    .dataframe thead th {\n",
       "        text-align: right;\n",
       "    }\n",
       "</style>\n",
       "<table border=\"1\" class=\"dataframe\">\n",
       "  <thead>\n",
       "    <tr style=\"text-align: right;\">\n",
       "      <th></th>\n",
       "      <th>tweet_text</th>\n",
       "      <th>cyberbullying_type</th>\n",
       "    </tr>\n",
       "  </thead>\n",
       "  <tbody>\n",
       "    <tr>\n",
       "      <th>0</th>\n",
       "      <td>In other words #katandandre, your food was cra...</td>\n",
       "      <td>not_cyberbullying</td>\n",
       "    </tr>\n",
       "    <tr>\n",
       "      <th>1</th>\n",
       "      <td>Why is #aussietv so white? #MKR #theblock #ImA...</td>\n",
       "      <td>not_cyberbullying</td>\n",
       "    </tr>\n",
       "    <tr>\n",
       "      <th>2</th>\n",
       "      <td>@XochitlSuckkks a classy whore? Or more red ve...</td>\n",
       "      <td>not_cyberbullying</td>\n",
       "    </tr>\n",
       "    <tr>\n",
       "      <th>3</th>\n",
       "      <td>@Jason_Gio meh. :P  thanks for the heads up, b...</td>\n",
       "      <td>not_cyberbullying</td>\n",
       "    </tr>\n",
       "    <tr>\n",
       "      <th>4</th>\n",
       "      <td>@RudhoeEnglish This is an ISIS account pretend...</td>\n",
       "      <td>not_cyberbullying</td>\n",
       "    </tr>\n",
       "    <tr>\n",
       "      <th>5</th>\n",
       "      <td>@Raja5aab @Quickieleaks Yes, the test of god i...</td>\n",
       "      <td>not_cyberbullying</td>\n",
       "    </tr>\n",
       "    <tr>\n",
       "      <th>6</th>\n",
       "      <td>Itu sekolah ya bukan tempat bully! Ga jauh kay...</td>\n",
       "      <td>not_cyberbullying</td>\n",
       "    </tr>\n",
       "    <tr>\n",
       "      <th>7</th>\n",
       "      <td>Karma. I hope it bites Kat on the butt. She is...</td>\n",
       "      <td>not_cyberbullying</td>\n",
       "    </tr>\n",
       "    <tr>\n",
       "      <th>8</th>\n",
       "      <td>@stockputout everything but mostly my priest</td>\n",
       "      <td>not_cyberbullying</td>\n",
       "    </tr>\n",
       "    <tr>\n",
       "      <th>9</th>\n",
       "      <td>Rebecca Black Drops Out of School Due to Bully...</td>\n",
       "      <td>not_cyberbullying</td>\n",
       "    </tr>\n",
       "  </tbody>\n",
       "</table>\n",
       "</div>"
      ],
      "text/plain": [
       "                                          tweet_text cyberbullying_type\n",
       "0  In other words #katandandre, your food was cra...  not_cyberbullying\n",
       "1  Why is #aussietv so white? #MKR #theblock #ImA...  not_cyberbullying\n",
       "2  @XochitlSuckkks a classy whore? Or more red ve...  not_cyberbullying\n",
       "3  @Jason_Gio meh. :P  thanks for the heads up, b...  not_cyberbullying\n",
       "4  @RudhoeEnglish This is an ISIS account pretend...  not_cyberbullying\n",
       "5  @Raja5aab @Quickieleaks Yes, the test of god i...  not_cyberbullying\n",
       "6  Itu sekolah ya bukan tempat bully! Ga jauh kay...  not_cyberbullying\n",
       "7  Karma. I hope it bites Kat on the butt. She is...  not_cyberbullying\n",
       "8       @stockputout everything but mostly my priest  not_cyberbullying\n",
       "9  Rebecca Black Drops Out of School Due to Bully...  not_cyberbullying"
      ]
     },
     "execution_count": 25,
     "metadata": {},
     "output_type": "execute_result"
    }
   ],
   "source": [
    "df = pd.read_csv(data)\n",
    "df.head(10)"
   ]
  },
  {
   "cell_type": "code",
   "execution_count": 26,
   "id": "5c492255",
   "metadata": {},
   "outputs": [
    {
     "data": {
      "text/html": [
       "<div>\n",
       "<style scoped>\n",
       "    .dataframe tbody tr th:only-of-type {\n",
       "        vertical-align: middle;\n",
       "    }\n",
       "\n",
       "    .dataframe tbody tr th {\n",
       "        vertical-align: top;\n",
       "    }\n",
       "\n",
       "    .dataframe thead th {\n",
       "        text-align: right;\n",
       "    }\n",
       "</style>\n",
       "<table border=\"1\" class=\"dataframe\">\n",
       "  <thead>\n",
       "    <tr style=\"text-align: right;\">\n",
       "      <th></th>\n",
       "      <th>tweet_text</th>\n",
       "      <th>cyberbullying_type</th>\n",
       "      <th>hashtags</th>\n",
       "    </tr>\n",
       "  </thead>\n",
       "  <tbody>\n",
       "    <tr>\n",
       "      <th>0</th>\n",
       "      <td>In other words #katandandre, your food was cra...</td>\n",
       "      <td>not_cyberbullying</td>\n",
       "      <td>[katandandre, mkr]</td>\n",
       "    </tr>\n",
       "    <tr>\n",
       "      <th>1</th>\n",
       "      <td>Why is #aussietv so white? #MKR #theblock #ImA...</td>\n",
       "      <td>not_cyberbullying</td>\n",
       "      <td>[aussietv, MKR, theblock, ImACelebrityAU, toda...</td>\n",
       "    </tr>\n",
       "    <tr>\n",
       "      <th>2</th>\n",
       "      <td>@XochitlSuckkks a classy whore? Or more red ve...</td>\n",
       "      <td>not_cyberbullying</td>\n",
       "      <td>[]</td>\n",
       "    </tr>\n",
       "    <tr>\n",
       "      <th>3</th>\n",
       "      <td>@Jason_Gio meh. :P  thanks for the heads up, b...</td>\n",
       "      <td>not_cyberbullying</td>\n",
       "      <td>[]</td>\n",
       "    </tr>\n",
       "    <tr>\n",
       "      <th>4</th>\n",
       "      <td>@RudhoeEnglish This is an ISIS account pretend...</td>\n",
       "      <td>not_cyberbullying</td>\n",
       "      <td>[]</td>\n",
       "    </tr>\n",
       "    <tr>\n",
       "      <th>5</th>\n",
       "      <td>@Raja5aab @Quickieleaks Yes, the test of god i...</td>\n",
       "      <td>not_cyberbullying</td>\n",
       "      <td>[]</td>\n",
       "    </tr>\n",
       "    <tr>\n",
       "      <th>6</th>\n",
       "      <td>Itu sekolah ya bukan tempat bully! Ga jauh kay...</td>\n",
       "      <td>not_cyberbullying</td>\n",
       "      <td>[]</td>\n",
       "    </tr>\n",
       "    <tr>\n",
       "      <th>7</th>\n",
       "      <td>Karma. I hope it bites Kat on the butt. She is...</td>\n",
       "      <td>not_cyberbullying</td>\n",
       "      <td>[mkr]</td>\n",
       "    </tr>\n",
       "    <tr>\n",
       "      <th>8</th>\n",
       "      <td>@stockputout everything but mostly my priest</td>\n",
       "      <td>not_cyberbullying</td>\n",
       "      <td>[]</td>\n",
       "    </tr>\n",
       "    <tr>\n",
       "      <th>9</th>\n",
       "      <td>Rebecca Black Drops Out of School Due to Bully...</td>\n",
       "      <td>not_cyberbullying</td>\n",
       "      <td>[]</td>\n",
       "    </tr>\n",
       "  </tbody>\n",
       "</table>\n",
       "</div>"
      ],
      "text/plain": [
       "                                          tweet_text cyberbullying_type  \\\n",
       "0  In other words #katandandre, your food was cra...  not_cyberbullying   \n",
       "1  Why is #aussietv so white? #MKR #theblock #ImA...  not_cyberbullying   \n",
       "2  @XochitlSuckkks a classy whore? Or more red ve...  not_cyberbullying   \n",
       "3  @Jason_Gio meh. :P  thanks for the heads up, b...  not_cyberbullying   \n",
       "4  @RudhoeEnglish This is an ISIS account pretend...  not_cyberbullying   \n",
       "5  @Raja5aab @Quickieleaks Yes, the test of god i...  not_cyberbullying   \n",
       "6  Itu sekolah ya bukan tempat bully! Ga jauh kay...  not_cyberbullying   \n",
       "7  Karma. I hope it bites Kat on the butt. She is...  not_cyberbullying   \n",
       "8       @stockputout everything but mostly my priest  not_cyberbullying   \n",
       "9  Rebecca Black Drops Out of School Due to Bully...  not_cyberbullying   \n",
       "\n",
       "                                            hashtags  \n",
       "0                                 [katandandre, mkr]  \n",
       "1  [aussietv, MKR, theblock, ImACelebrityAU, toda...  \n",
       "2                                                 []  \n",
       "3                                                 []  \n",
       "4                                                 []  \n",
       "5                                                 []  \n",
       "6                                                 []  \n",
       "7                                              [mkr]  \n",
       "8                                                 []  \n",
       "9                                                 []  "
      ]
     },
     "execution_count": 26,
     "metadata": {},
     "output_type": "execute_result"
    }
   ],
   "source": [
    "import re\n",
    "\n",
    "df['hashtags'] = df['tweet_text'].apply(lambda x: re.findall(r\"#(\\w+)\", x))\n",
    "df.head(10)"
   ]
  },
  {
   "cell_type": "code",
   "execution_count": 27,
   "id": "e23ac811",
   "metadata": {},
   "outputs": [
    {
     "name": "stdout",
     "output_type": "stream",
     "text": [
      "Reading twitter - 1grams ...\n",
      "Reading twitter - 2grams ...\n"
     ]
    }
   ],
   "source": [
    "from ekphrasis.classes.segmenter import Segmenter\n",
    "\n",
    "seg_tw = Segmenter(corpus=\"twitter\")\n",
    "def segment_hashtags(hashtags):\n",
    "    return ' '.join([seg_tw.segment(h) for h in hashtags])\n",
    "\n",
    "df['segmented_hashtags'] = df['hashtags'].apply(segment_hashtags)\n"
   ]
  },
  {
   "cell_type": "code",
   "execution_count": 28,
   "id": "7f93666e",
   "metadata": {},
   "outputs": [
    {
     "data": {
      "text/html": [
       "<div>\n",
       "<style scoped>\n",
       "    .dataframe tbody tr th:only-of-type {\n",
       "        vertical-align: middle;\n",
       "    }\n",
       "\n",
       "    .dataframe tbody tr th {\n",
       "        vertical-align: top;\n",
       "    }\n",
       "\n",
       "    .dataframe thead th {\n",
       "        text-align: right;\n",
       "    }\n",
       "</style>\n",
       "<table border=\"1\" class=\"dataframe\">\n",
       "  <thead>\n",
       "    <tr style=\"text-align: right;\">\n",
       "      <th></th>\n",
       "      <th>tweet_text</th>\n",
       "      <th>cyberbullying_type</th>\n",
       "      <th>hashtags</th>\n",
       "      <th>segmented_hashtags</th>\n",
       "    </tr>\n",
       "  </thead>\n",
       "  <tbody>\n",
       "    <tr>\n",
       "      <th>0</th>\n",
       "      <td>In other words #katandandre, your food was cra...</td>\n",
       "      <td>not_cyberbullying</td>\n",
       "      <td>[katandandre, mkr]</td>\n",
       "      <td>kat and andre mkr</td>\n",
       "    </tr>\n",
       "    <tr>\n",
       "      <th>1</th>\n",
       "      <td>Why is #aussietv so white? #MKR #theblock #ImA...</td>\n",
       "      <td>not_cyberbullying</td>\n",
       "      <td>[aussietv, MKR, theblock, ImACelebrityAU, toda...</td>\n",
       "      <td>aussie tv mkr the block im a celebrity au toda...</td>\n",
       "    </tr>\n",
       "    <tr>\n",
       "      <th>2</th>\n",
       "      <td>@XochitlSuckkks a classy whore? Or more red ve...</td>\n",
       "      <td>not_cyberbullying</td>\n",
       "      <td>[]</td>\n",
       "      <td></td>\n",
       "    </tr>\n",
       "    <tr>\n",
       "      <th>3</th>\n",
       "      <td>@Jason_Gio meh. :P  thanks for the heads up, b...</td>\n",
       "      <td>not_cyberbullying</td>\n",
       "      <td>[]</td>\n",
       "      <td></td>\n",
       "    </tr>\n",
       "    <tr>\n",
       "      <th>4</th>\n",
       "      <td>@RudhoeEnglish This is an ISIS account pretend...</td>\n",
       "      <td>not_cyberbullying</td>\n",
       "      <td>[]</td>\n",
       "      <td></td>\n",
       "    </tr>\n",
       "    <tr>\n",
       "      <th>5</th>\n",
       "      <td>@Raja5aab @Quickieleaks Yes, the test of god i...</td>\n",
       "      <td>not_cyberbullying</td>\n",
       "      <td>[]</td>\n",
       "      <td></td>\n",
       "    </tr>\n",
       "    <tr>\n",
       "      <th>6</th>\n",
       "      <td>Itu sekolah ya bukan tempat bully! Ga jauh kay...</td>\n",
       "      <td>not_cyberbullying</td>\n",
       "      <td>[]</td>\n",
       "      <td></td>\n",
       "    </tr>\n",
       "    <tr>\n",
       "      <th>7</th>\n",
       "      <td>Karma. I hope it bites Kat on the butt. She is...</td>\n",
       "      <td>not_cyberbullying</td>\n",
       "      <td>[mkr]</td>\n",
       "      <td>mkr</td>\n",
       "    </tr>\n",
       "    <tr>\n",
       "      <th>8</th>\n",
       "      <td>@stockputout everything but mostly my priest</td>\n",
       "      <td>not_cyberbullying</td>\n",
       "      <td>[]</td>\n",
       "      <td></td>\n",
       "    </tr>\n",
       "    <tr>\n",
       "      <th>9</th>\n",
       "      <td>Rebecca Black Drops Out of School Due to Bully...</td>\n",
       "      <td>not_cyberbullying</td>\n",
       "      <td>[]</td>\n",
       "      <td></td>\n",
       "    </tr>\n",
       "  </tbody>\n",
       "</table>\n",
       "</div>"
      ],
      "text/plain": [
       "                                          tweet_text cyberbullying_type  \\\n",
       "0  In other words #katandandre, your food was cra...  not_cyberbullying   \n",
       "1  Why is #aussietv so white? #MKR #theblock #ImA...  not_cyberbullying   \n",
       "2  @XochitlSuckkks a classy whore? Or more red ve...  not_cyberbullying   \n",
       "3  @Jason_Gio meh. :P  thanks for the heads up, b...  not_cyberbullying   \n",
       "4  @RudhoeEnglish This is an ISIS account pretend...  not_cyberbullying   \n",
       "5  @Raja5aab @Quickieleaks Yes, the test of god i...  not_cyberbullying   \n",
       "6  Itu sekolah ya bukan tempat bully! Ga jauh kay...  not_cyberbullying   \n",
       "7  Karma. I hope it bites Kat on the butt. She is...  not_cyberbullying   \n",
       "8       @stockputout everything but mostly my priest  not_cyberbullying   \n",
       "9  Rebecca Black Drops Out of School Due to Bully...  not_cyberbullying   \n",
       "\n",
       "                                            hashtags  \\\n",
       "0                                 [katandandre, mkr]   \n",
       "1  [aussietv, MKR, theblock, ImACelebrityAU, toda...   \n",
       "2                                                 []   \n",
       "3                                                 []   \n",
       "4                                                 []   \n",
       "5                                                 []   \n",
       "6                                                 []   \n",
       "7                                              [mkr]   \n",
       "8                                                 []   \n",
       "9                                                 []   \n",
       "\n",
       "                                  segmented_hashtags  \n",
       "0                                  kat and andre mkr  \n",
       "1  aussie tv mkr the block im a celebrity au toda...  \n",
       "2                                                     \n",
       "3                                                     \n",
       "4                                                     \n",
       "5                                                     \n",
       "6                                                     \n",
       "7                                                mkr  \n",
       "8                                                     \n",
       "9                                                     "
      ]
     },
     "execution_count": 28,
     "metadata": {},
     "output_type": "execute_result"
    }
   ],
   "source": [
    "df.head(10)"
   ]
  },
  {
   "cell_type": "code",
   "execution_count": null,
   "id": "dce22031",
   "metadata": {},
   "outputs": [],
   "source": [
    "import preprocessor as p\n",
    "\n",
    "p.set_options(p.OPT.URL, p.OPT.MENTION, p.OPT.HASHTAG)\n",
    "emoji_pattern = re.compile(\n",
    "    \"[\\U0001F600-\\U0001F64F\"\n",
    "    \"\\U0001F300-\\U0001F5FF\"\n",
    "    \"\\U0001F680-\\U0001F6FF\"\n",
    "    \"\\U0001F1E0-\\U0001F1FF\"\n",
    "    \"\\U00002700-\\U000027BF\"\n",
    "    \"\\U0001F900-\\U0001F9FF\"\n",
    "    \"\\U00002600-\\U000026FF\"\n",
    "    \"\\U0001FA70-\\U0001FAFF]+\", flags=re.UNICODE\n",
    ")\n",
    "\n",
    "def clean_tweet(text):\n",
    "    text = p.clean(text)                 \n",
    "    text = emoji_pattern.sub('', text)   \n",
    "    text = re.sub(r'\\d+', '', text)      \n",
    "    text = text.lower()                  \n",
    "    return text.strip()\n",
    "\n",
    "df['clean_text'] = df['tweet_text'].apply(clean_tweet)\n"
   ]
  },
  {
   "cell_type": "code",
   "execution_count": 30,
   "id": "9ccae392",
   "metadata": {},
   "outputs": [
    {
     "data": {
      "text/html": [
       "<div>\n",
       "<style scoped>\n",
       "    .dataframe tbody tr th:only-of-type {\n",
       "        vertical-align: middle;\n",
       "    }\n",
       "\n",
       "    .dataframe tbody tr th {\n",
       "        vertical-align: top;\n",
       "    }\n",
       "\n",
       "    .dataframe thead th {\n",
       "        text-align: right;\n",
       "    }\n",
       "</style>\n",
       "<table border=\"1\" class=\"dataframe\">\n",
       "  <thead>\n",
       "    <tr style=\"text-align: right;\">\n",
       "      <th></th>\n",
       "      <th>tweet_text</th>\n",
       "      <th>cyberbullying_type</th>\n",
       "      <th>hashtags</th>\n",
       "      <th>segmented_hashtags</th>\n",
       "      <th>clean_text</th>\n",
       "    </tr>\n",
       "  </thead>\n",
       "  <tbody>\n",
       "    <tr>\n",
       "      <th>0</th>\n",
       "      <td>In other words #katandandre, your food was cra...</td>\n",
       "      <td>not_cyberbullying</td>\n",
       "      <td>[katandandre, mkr]</td>\n",
       "      <td>kat and andre mkr</td>\n",
       "      <td>in other words , your food was crapilicious!</td>\n",
       "    </tr>\n",
       "    <tr>\n",
       "      <th>1</th>\n",
       "      <td>Why is #aussietv so white? #MKR #theblock #ImA...</td>\n",
       "      <td>not_cyberbullying</td>\n",
       "      <td>[aussietv, MKR, theblock, ImACelebrityAU, toda...</td>\n",
       "      <td>aussie tv mkr the block im a celebrity au toda...</td>\n",
       "      <td>why is so white?</td>\n",
       "    </tr>\n",
       "    <tr>\n",
       "      <th>2</th>\n",
       "      <td>@XochitlSuckkks a classy whore? Or more red ve...</td>\n",
       "      <td>not_cyberbullying</td>\n",
       "      <td>[]</td>\n",
       "      <td></td>\n",
       "      <td>a classy whore? or more red velvet cupcakes?</td>\n",
       "    </tr>\n",
       "    <tr>\n",
       "      <th>3</th>\n",
       "      <td>@Jason_Gio meh. :P  thanks for the heads up, b...</td>\n",
       "      <td>not_cyberbullying</td>\n",
       "      <td>[]</td>\n",
       "      <td></td>\n",
       "      <td>meh. :p thanks for the heads up, but not too c...</td>\n",
       "    </tr>\n",
       "    <tr>\n",
       "      <th>4</th>\n",
       "      <td>@RudhoeEnglish This is an ISIS account pretend...</td>\n",
       "      <td>not_cyberbullying</td>\n",
       "      <td>[]</td>\n",
       "      <td></td>\n",
       "      <td>this is an isis account pretending to be a kur...</td>\n",
       "    </tr>\n",
       "    <tr>\n",
       "      <th>5</th>\n",
       "      <td>@Raja5aab @Quickieleaks Yes, the test of god i...</td>\n",
       "      <td>not_cyberbullying</td>\n",
       "      <td>[]</td>\n",
       "      <td></td>\n",
       "      <td>yes, the test of god is that good or bad or in...</td>\n",
       "    </tr>\n",
       "    <tr>\n",
       "      <th>6</th>\n",
       "      <td>Itu sekolah ya bukan tempat bully! Ga jauh kay...</td>\n",
       "      <td>not_cyberbullying</td>\n",
       "      <td>[]</td>\n",
       "      <td></td>\n",
       "      <td>itu sekolah ya bukan tempat bully! ga jauh kay...</td>\n",
       "    </tr>\n",
       "    <tr>\n",
       "      <th>7</th>\n",
       "      <td>Karma. I hope it bites Kat on the butt. She is...</td>\n",
       "      <td>not_cyberbullying</td>\n",
       "      <td>[mkr]</td>\n",
       "      <td>mkr</td>\n",
       "      <td>karma. i hope it bites kat on the butt. she is...</td>\n",
       "    </tr>\n",
       "    <tr>\n",
       "      <th>8</th>\n",
       "      <td>@stockputout everything but mostly my priest</td>\n",
       "      <td>not_cyberbullying</td>\n",
       "      <td>[]</td>\n",
       "      <td></td>\n",
       "      <td>everything but mostly my priest</td>\n",
       "    </tr>\n",
       "    <tr>\n",
       "      <th>9</th>\n",
       "      <td>Rebecca Black Drops Out of School Due to Bully...</td>\n",
       "      <td>not_cyberbullying</td>\n",
       "      <td>[]</td>\n",
       "      <td></td>\n",
       "      <td>rebecca black drops out of school due to bully...</td>\n",
       "    </tr>\n",
       "  </tbody>\n",
       "</table>\n",
       "</div>"
      ],
      "text/plain": [
       "                                          tweet_text cyberbullying_type  \\\n",
       "0  In other words #katandandre, your food was cra...  not_cyberbullying   \n",
       "1  Why is #aussietv so white? #MKR #theblock #ImA...  not_cyberbullying   \n",
       "2  @XochitlSuckkks a classy whore? Or more red ve...  not_cyberbullying   \n",
       "3  @Jason_Gio meh. :P  thanks for the heads up, b...  not_cyberbullying   \n",
       "4  @RudhoeEnglish This is an ISIS account pretend...  not_cyberbullying   \n",
       "5  @Raja5aab @Quickieleaks Yes, the test of god i...  not_cyberbullying   \n",
       "6  Itu sekolah ya bukan tempat bully! Ga jauh kay...  not_cyberbullying   \n",
       "7  Karma. I hope it bites Kat on the butt. She is...  not_cyberbullying   \n",
       "8       @stockputout everything but mostly my priest  not_cyberbullying   \n",
       "9  Rebecca Black Drops Out of School Due to Bully...  not_cyberbullying   \n",
       "\n",
       "                                            hashtags  \\\n",
       "0                                 [katandandre, mkr]   \n",
       "1  [aussietv, MKR, theblock, ImACelebrityAU, toda...   \n",
       "2                                                 []   \n",
       "3                                                 []   \n",
       "4                                                 []   \n",
       "5                                                 []   \n",
       "6                                                 []   \n",
       "7                                              [mkr]   \n",
       "8                                                 []   \n",
       "9                                                 []   \n",
       "\n",
       "                                  segmented_hashtags  \\\n",
       "0                                  kat and andre mkr   \n",
       "1  aussie tv mkr the block im a celebrity au toda...   \n",
       "2                                                      \n",
       "3                                                      \n",
       "4                                                      \n",
       "5                                                      \n",
       "6                                                      \n",
       "7                                                mkr   \n",
       "8                                                      \n",
       "9                                                      \n",
       "\n",
       "                                          clean_text  \n",
       "0       in other words , your food was crapilicious!  \n",
       "1                                   why is so white?  \n",
       "2       a classy whore? or more red velvet cupcakes?  \n",
       "3  meh. :p thanks for the heads up, but not too c...  \n",
       "4  this is an isis account pretending to be a kur...  \n",
       "5  yes, the test of god is that good or bad or in...  \n",
       "6  itu sekolah ya bukan tempat bully! ga jauh kay...  \n",
       "7  karma. i hope it bites kat on the butt. she is...  \n",
       "8                    everything but mostly my priest  \n",
       "9  rebecca black drops out of school due to bully...  "
      ]
     },
     "execution_count": 30,
     "metadata": {},
     "output_type": "execute_result"
    }
   ],
   "source": [
    "df.head(10)"
   ]
  },
  {
   "cell_type": "code",
   "execution_count": null,
   "id": "742dcd03",
   "metadata": {},
   "outputs": [
    {
     "data": {
      "image/png": "[encoded data removed]",
      "text/plain": [
       "<Figure size 800x500 with 1 Axes>"
      ]
     },
     "metadata": {},
     "output_type": "display_data"
    }
   ],
   "source": [
    "count= df.groupby('cyberbullying_type').size().reset_index(name='count')\n",
    "\n",
    "plt.figure(figsize=(8, 5))\n",
    "plt.bar(count['cyberbullying_type'], count['count'], color='skyblue')\n",
    "\n",
    "\n",
    "plt.title('Tweet Count by Cyberbullying Type')\n",
    "plt.xlabel('Cyberbullying Type')\n",
    "plt.ylabel('Count')\n",
    "plt.xticks(rotation=45)\n",
    "plt.tight_layout()\n",
    "plt.show()\n"
   ]
  },
  {
   "cell_type": "code",
   "execution_count": null,
   "id": "60086394",
   "metadata": {},
   "outputs": [],
   "source": [
    "train_df, temp_df = train_test_split(\n",
    "    df,\n",
    "    test_size=0.3,\n",
    "    stratify=df['cyberbullying_type'],\n",
    "    random_state=42\n",
    ")\n",
    "\n",
    "val_df, test_df = train_test_split(\n",
    "    temp_df,\n",
    "    test_size=0.5,\n",
    "    stratify=temp_df['cyberbullying_type'],\n",
    "    random_state=42\n",
    ")"
   ]
  },
  {
   "cell_type": "code",
   "execution_count": 35,
   "id": "57fb4b67",
   "metadata": {},
   "outputs": [
    {
     "name": "stderr",
     "output_type": "stream",
     "text": [
      "Token indices sequence length is longer than the specified maximum sequence length for this model (879 > 512). Running this sequence through the model will result in indexing errors\n"
     ]
    },
    {
     "data": {
      "text/plain": [
       "count    47692.000000\n",
       "mean        30.203451\n",
       "std         20.056844\n",
       "min          0.000000\n",
       "25%         16.000000\n",
       "50%         26.000000\n",
       "75%         41.000000\n",
       "max        992.000000\n",
       "Name: clean_text, dtype: float64"
      ]
     },
     "execution_count": 35,
     "metadata": {},
     "output_type": "execute_result"
    }
   ],
   "source": [
    "\n",
    "from transformers import DistilBertTokenizerFast\n",
    "\n",
    "tokenizer = DistilBertTokenizerFast.from_pretrained('distilbert-base-uncased')\n",
    "token_lengths = df['clean_text'].apply(lambda x: len(tokenizer.tokenize(x)))\n",
    "token_lengths.describe()\n"
   ]
  },
  {
   "cell_type": "code",
   "execution_count": 39,
   "id": "edf85cd7",
   "metadata": {},
   "outputs": [],
   "source": [
    "from transformers import DistilBertTokenizerFast\n",
    "\n",
    "\n",
    "#tokenizer = DistilBertTokenizerFast.from_pretrained('distilbert-base-uncased')\n",
    "#tokenized = tokenizer(\n",
    "#    df['clean_text'].tolist(),\n",
    "#    padding=True,            \n",
    "#    truncation=True,         \n",
    "#    max_length=64,           \n",
    "#    return_tensors='pt'      \n",
    "#)\n",
    "\n",
    "train_encodings = tokenizer(\n",
    "    train_df['clean_text'].tolist(),\n",
    "    truncation=True,\n",
    "    padding=True,\n",
    "    max_length=64,\n",
    "    return_tensors='pt'\n",
    ")\n",
    "\n",
    "val_encodings = tokenizer(\n",
    "    val_df['clean_text'].tolist(),\n",
    "    truncation=True,\n",
    "    padding=True,\n",
    "    max_length=64,\n",
    "    return_tensors='pt'\n",
    ")\n",
    "\n",
    "test_encodings = tokenizer(\n",
    "    test_df['clean_text'].tolist(),\n",
    "    truncation=True,\n",
    "    padding=True,\n",
    "    max_length=64,\n",
    "    return_tensors='pt'\n",
    ")\n",
    "\n"
   ]
  },
  {
   "cell_type": "code",
   "execution_count": 41,
   "id": "67b71375",
   "metadata": {},
   "outputs": [
    {
     "name": "stdout",
     "output_type": "stream",
     "text": [
      "Train class distribution:\n",
      " cyberbullying_type\n",
      "religion               0.167715\n",
      "age                    0.167565\n",
      "gender                 0.167176\n",
      "ethnicity              0.166936\n",
      "not_cyberbullying      0.166577\n",
      "other_cyberbullying    0.164031\n",
      "Name: proportion, dtype: float64\n",
      "Val class distribution:\n",
      " cyberbullying_type\n",
      "religion               0.167738\n",
      "age                    0.167599\n",
      "gender                 0.167179\n",
      "ethnicity              0.166900\n",
      "not_cyberbullying      0.166620\n",
      "other_cyberbullying    0.163964\n",
      "Name: proportion, dtype: float64\n",
      "Test class distribution:\n",
      " cyberbullying_type\n",
      "age                    0.167599\n",
      "religion               0.167599\n",
      "gender                 0.167179\n",
      "ethnicity              0.166900\n",
      "not_cyberbullying      0.166620\n",
      "other_cyberbullying    0.164104\n",
      "Name: proportion, dtype: float64\n"
     ]
    }
   ],
   "source": [
    "print(\"Train class distribution:\\n\", train_df['cyberbullying_type'].value_counts(normalize=True))\n",
    "print(\"Val class distribution:\\n\", val_df['cyberbullying_type'].value_counts(normalize=True))\n",
    "print(\"Test class distribution:\\n\", test_df['cyberbullying_type'].value_counts(normalize=True))\n"
   ]
  },
  {
   "cell_type": "code",
   "execution_count": null,
   "id": "e72af0da",
   "metadata": {},
   "outputs": [],
   "source": [
    "train_input_ids = train_encodings['input_ids']\n",
    "train_attention_mask = train_encodings['attention_mask']\n",
    "\n",
    "val_input_ids = val_encodings['input_ids']\n",
    "val_attention_mask = val_encodings['attention_mask']\n",
    "\n",
    "test_input_ids = test_encodings['input_ids']\n",
    "test_attention_mask = test_encodings['attention_mask']\n"
   ]
  },
  {
   "cell_type": "code",
   "execution_count": 43,
   "id": "c3013038",
   "metadata": {},
   "outputs": [],
   "source": [
    "import torch\n",
    "from torch.utils.data import Dataset\n",
    "\n",
    "class CyberbullyingDataset(Dataset):\n",
    "    def __init__(self, encodings, labels):\n",
    "        self.encodings = encodings\n",
    "        self.labels = labels\n",
    "\n",
    "    def __getitem__(self, idx):\n",
    "        return {\n",
    "            'input_ids': self.encodings['input_ids'][idx],\n",
    "            'attention_mask': self.encodings['attention_mask'][idx],\n",
    "            'labels': torch.tensor(self.labels[idx], dtype=torch.long)\n",
    "        }\n",
    "\n",
    "    def __len__(self):\n",
    "        return len(self.labels)\n"
   ]
  },
  {
   "cell_type": "code",
   "execution_count": 44,
   "id": "abcadcda",
   "metadata": {},
   "outputs": [],
   "source": [
    "from sklearn.preprocessing import LabelEncoder\n",
    "\n",
    "le = LabelEncoder()\n",
    "train_labels_encoded = le.fit_transform(train_df['cyberbullying_type'])\n",
    "val_labels_encoded = le.transform(val_df['cyberbullying_type'])\n",
    "test_labels_encoded = le.transform(test_df['cyberbullying_type'])"
   ]
  },
  {
   "cell_type": "code",
   "execution_count": null,
   "id": "7a84a386",
   "metadata": {},
   "outputs": [],
   "source": [
    "from torch.utils.data import DataLoader\n",
    "\n",
    "\n",
    "train_dataset = CyberbullyingDataset(train_encodings, train_labels_encoded)\n",
    "val_dataset = CyberbullyingDataset(val_encodings, val_labels_encoded)\n",
    "test_dataset = CyberbullyingDataset(test_encodings, test_labels_encoded)\n",
    "\n",
    "train_loader = DataLoader(train_dataset, batch_size=16, shuffle=True)\n",
    "val_loader = DataLoader(val_dataset, batch_size=32)\n",
    "test_loader = DataLoader(test_dataset, batch_size=32)\n"
   ]
  },
  {
   "cell_type": "code",
   "execution_count": null,
   "id": "b9f564cc",
   "metadata": {},
   "outputs": [
    {
     "name": "stderr",
     "output_type": "stream",
     "text": [
      "Some weights of DistilBertForSequenceClassification were not initialized from the model checkpoint at distilbert-base-uncased and are newly initialized: ['classifier.bias', 'classifier.weight', 'pre_classifier.bias', 'pre_classifier.weight']\n",
      "You should probably TRAIN this model on a down-stream task to be able to use it for predictions and inference.\n"
     ]
    }
   ],
   "source": [
    "from transformers import DistilBertForSequenceClassification\n",
    "\n",
    "model = DistilBertForSequenceClassification.from_pretrained(\n",
    "    'distilbert-base-uncased',\n",
    "    num_labels=6\n",
    ")\n"
   ]
  },
  {
   "cell_type": "code",
   "execution_count": null,
   "id": "d223eaf3",
   "metadata": {},
   "outputs": [],
   "source": [
    "from torch.optim import AdamW\n",
    "from torch.optim.lr_scheduler import StepLR\n",
    "\n",
    "optimizer = AdamW(model.parameters(), lr=5e-5)\n",
    "scheduler = StepLR(optimizer, step_size=2, gamma=0.9)\n"
   ]
  },
  {
   "cell_type": "code",
   "execution_count": null,
   "id": "0322cbd8",
   "metadata": {},
   "outputs": [
    {
     "name": "stderr",
     "output_type": "stream",
     "text": [
      "100%|██████████| 2087/2087 [04:44<00:00,  7.34it/s]\n",
      "Validating Epoch 1:   1%|          | 2/224 [00:00<00:15, 14.15it/s]"
     ]
    },
    {
     "name": "stdout",
     "output_type": "stream",
     "text": [
      "Epoch 1/8 - Training loss: 186.9575\n"
     ]
    },
    {
     "name": "stderr",
     "output_type": "stream",
     "text": [
      "Validating Epoch 1: 100%|██████████| 224/224 [00:15<00:00, 14.80it/s]\n"
     ]
    },
    {
     "name": "stdout",
     "output_type": "stream",
     "text": [
      "Validation Accuracy: 0.8244\n",
      "                     precision    recall  f1-score   support\n",
      "\n",
      "                age       0.98      0.98      0.98      1199\n",
      "          ethnicity       0.99      0.97      0.98      1194\n",
      "             gender       0.89      0.84      0.86      1196\n",
      "  not_cyberbullying       0.62      0.48      0.54      1192\n",
      "other_cyberbullying       0.55      0.74      0.63      1173\n",
      "           religion       0.98      0.94      0.96      1200\n",
      "\n",
      "           accuracy                           0.82      7154\n",
      "          macro avg       0.83      0.82      0.82      7154\n",
      "       weighted avg       0.83      0.82      0.83      7154\n",
      "\n"
     ]
    },
    {
     "name": "stderr",
     "output_type": "stream",
     "text": [
      "  0%|          | 1/2087 [00:00<04:49,  7.21it/s]"
     ]
    },
    {
     "name": "stdout",
     "output_type": "stream",
     "text": [
      "🔸 Best model saved at epoch 1 with accuracy 0.8244\n"
     ]
    },
    {
     "name": "stderr",
     "output_type": "stream",
     "text": [
      "100%|██████████| 2087/2087 [04:37<00:00,  7.52it/s]\n",
      "Validating Epoch 2:   1%|          | 2/224 [00:00<00:15, 14.44it/s]"
     ]
    },
    {
     "name": "stdout",
     "output_type": "stream",
     "text": [
      "Epoch 2/8 - Training loss: 146.4311\n"
     ]
    },
    {
     "name": "stderr",
     "output_type": "stream",
     "text": [
      "Validating Epoch 2: 100%|██████████| 224/224 [00:15<00:00, 14.77it/s]\n"
     ]
    },
    {
     "name": "stdout",
     "output_type": "stream",
     "text": [
      "Validation Accuracy: 0.8246\n",
      "                     precision    recall  f1-score   support\n",
      "\n",
      "                age       0.98      0.98      0.98      1199\n",
      "          ethnicity       0.99      0.98      0.98      1194\n",
      "             gender       0.90      0.83      0.86      1196\n",
      "  not_cyberbullying       0.60      0.54      0.57      1192\n",
      "other_cyberbullying       0.56      0.69      0.62      1173\n",
      "           religion       0.97      0.94      0.95      1200\n",
      "\n",
      "           accuracy                           0.82      7154\n",
      "          macro avg       0.83      0.82      0.83      7154\n",
      "       weighted avg       0.83      0.82      0.83      7154\n",
      "\n"
     ]
    },
    {
     "name": "stderr",
     "output_type": "stream",
     "text": [
      "  0%|          | 1/2087 [00:00<04:43,  7.35it/s]"
     ]
    },
    {
     "name": "stdout",
     "output_type": "stream",
     "text": [
      "🔸 Best model saved at epoch 2 with accuracy 0.8246\n"
     ]
    },
    {
     "name": "stderr",
     "output_type": "stream",
     "text": [
      "100%|██████████| 2087/2087 [04:36<00:00,  7.55it/s]\n",
      "Validating Epoch 3:   1%|          | 2/224 [00:00<00:15, 14.05it/s]"
     ]
    },
    {
     "name": "stdout",
     "output_type": "stream",
     "text": [
      "Epoch 3/8 - Training loss: 131.2040\n"
     ]
    },
    {
     "name": "stderr",
     "output_type": "stream",
     "text": [
      "Validating Epoch 3: 100%|██████████| 224/224 [00:15<00:00, 14.79it/s]\n"
     ]
    },
    {
     "name": "stdout",
     "output_type": "stream",
     "text": [
      "Validation Accuracy: 0.8269\n",
      "                     precision    recall  f1-score   support\n",
      "\n",
      "                age       0.98      0.98      0.98      1199\n",
      "          ethnicity       0.98      0.98      0.98      1194\n",
      "             gender       0.84      0.87      0.86      1196\n",
      "  not_cyberbullying       0.57      0.60      0.59      1192\n",
      "other_cyberbullying       0.62      0.56      0.59      1173\n",
      "           religion       0.96      0.96      0.96      1200\n",
      "\n",
      "           accuracy                           0.83      7154\n",
      "          macro avg       0.83      0.83      0.83      7154\n",
      "       weighted avg       0.83      0.83      0.83      7154\n",
      "\n"
     ]
    },
    {
     "name": "stderr",
     "output_type": "stream",
     "text": [
      "  0%|          | 1/2087 [00:00<04:45,  7.30it/s]"
     ]
    },
    {
     "name": "stdout",
     "output_type": "stream",
     "text": [
      "🔸 Best model saved at epoch 3 with accuracy 0.8269\n"
     ]
    },
    {
     "name": "stderr",
     "output_type": "stream",
     "text": [
      "100%|██████████| 2087/2087 [04:36<00:00,  7.55it/s]\n",
      "Validating Epoch 4:   1%|          | 2/224 [00:00<00:16, 13.76it/s]"
     ]
    },
    {
     "name": "stdout",
     "output_type": "stream",
     "text": [
      "Epoch 4/8 - Training loss: 129.4100\n"
     ]
    },
    {
     "name": "stderr",
     "output_type": "stream",
     "text": [
      "Validating Epoch 4: 100%|██████████| 224/224 [00:15<00:00, 14.80it/s]\n",
      "  0%|          | 1/2087 [00:00<04:37,  7.51it/s]"
     ]
    },
    {
     "name": "stdout",
     "output_type": "stream",
     "text": [
      "Validation Accuracy: 0.8229\n",
      "                     precision    recall  f1-score   support\n",
      "\n",
      "                age       0.98      0.97      0.98      1199\n",
      "          ethnicity       0.99      0.97      0.98      1194\n",
      "             gender       0.86      0.86      0.86      1196\n",
      "  not_cyberbullying       0.58      0.54      0.56      1192\n",
      "other_cyberbullying       0.57      0.64      0.60      1173\n",
      "           religion       0.97      0.95      0.96      1200\n",
      "\n",
      "           accuracy                           0.82      7154\n",
      "          macro avg       0.82      0.82      0.82      7154\n",
      "       weighted avg       0.83      0.82      0.82      7154\n",
      "\n"
     ]
    },
    {
     "name": "stderr",
     "output_type": "stream",
     "text": [
      "100%|██████████| 2087/2087 [04:37<00:00,  7.52it/s]\n",
      "Validating Epoch 5:   1%|          | 2/224 [00:00<00:15, 14.28it/s]"
     ]
    },
    {
     "name": "stdout",
     "output_type": "stream",
     "text": [
      "Epoch 5/8 - Training loss: 121.4757\n"
     ]
    },
    {
     "name": "stderr",
     "output_type": "stream",
     "text": [
      "Validating Epoch 5: 100%|██████████| 224/224 [00:15<00:00, 14.72it/s]\n",
      "  0%|          | 1/2087 [00:00<04:39,  7.46it/s]"
     ]
    },
    {
     "name": "stdout",
     "output_type": "stream",
     "text": [
      "Validation Accuracy: 0.8239\n",
      "                     precision    recall  f1-score   support\n",
      "\n",
      "                age       0.98      0.98      0.98      1199\n",
      "          ethnicity       0.98      0.98      0.98      1194\n",
      "             gender       0.83      0.87      0.85      1196\n",
      "  not_cyberbullying       0.61      0.51      0.56      1192\n",
      "other_cyberbullying       0.59      0.63      0.61      1173\n",
      "           religion       0.94      0.97      0.96      1200\n",
      "\n",
      "           accuracy                           0.82      7154\n",
      "          macro avg       0.82      0.82      0.82      7154\n",
      "       weighted avg       0.82      0.82      0.82      7154\n",
      "\n"
     ]
    },
    {
     "name": "stderr",
     "output_type": "stream",
     "text": [
      "100%|██████████| 2087/2087 [04:37<00:00,  7.52it/s]\n",
      "Validating Epoch 6:   1%|          | 2/224 [00:00<00:15, 14.18it/s]"
     ]
    },
    {
     "name": "stdout",
     "output_type": "stream",
     "text": [
      "Epoch 6/8 - Training loss: 114.1621\n"
     ]
    },
    {
     "name": "stderr",
     "output_type": "stream",
     "text": [
      "Validating Epoch 6: 100%|██████████| 224/224 [00:15<00:00, 14.67it/s]\n",
      "  0%|          | 1/2087 [00:00<04:54,  7.07it/s]"
     ]
    },
    {
     "name": "stdout",
     "output_type": "stream",
     "text": [
      "Validation Accuracy: 0.8180\n",
      "                     precision    recall  f1-score   support\n",
      "\n",
      "                age       0.99      0.97      0.98      1199\n",
      "          ethnicity       0.99      0.98      0.98      1194\n",
      "             gender       0.84      0.87      0.85      1196\n",
      "  not_cyberbullying       0.54      0.63      0.58      1192\n",
      "other_cyberbullying       0.60      0.51      0.55      1173\n",
      "           religion       0.97      0.94      0.96      1200\n",
      "\n",
      "           accuracy                           0.82      7154\n",
      "          macro avg       0.82      0.82      0.82      7154\n",
      "       weighted avg       0.82      0.82      0.82      7154\n",
      "\n"
     ]
    },
    {
     "name": "stderr",
     "output_type": "stream",
     "text": [
      "100%|██████████| 2087/2087 [04:37<00:00,  7.51it/s]\n",
      "Validating Epoch 7:   1%|          | 2/224 [00:00<00:15, 14.22it/s]"
     ]
    },
    {
     "name": "stdout",
     "output_type": "stream",
     "text": [
      "Epoch 7/8 - Training loss: 111.3611\n"
     ]
    },
    {
     "name": "stderr",
     "output_type": "stream",
     "text": [
      "Validating Epoch 7: 100%|██████████| 224/224 [00:15<00:00, 14.76it/s]\n",
      "  0%|          | 1/2087 [00:00<04:37,  7.52it/s]"
     ]
    },
    {
     "name": "stdout",
     "output_type": "stream",
     "text": [
      "Validation Accuracy: 0.7979\n",
      "                     precision    recall  f1-score   support\n",
      "\n",
      "                age       0.97      0.98      0.98      1199\n",
      "          ethnicity       0.98      0.98      0.98      1194\n",
      "             gender       0.80      0.88      0.84      1196\n",
      "  not_cyberbullying       0.50      0.58      0.54      1192\n",
      "other_cyberbullying       0.55      0.40      0.46      1173\n",
      "           religion       0.96      0.96      0.96      1200\n",
      "\n",
      "           accuracy                           0.80      7154\n",
      "          macro avg       0.79      0.80      0.79      7154\n",
      "       weighted avg       0.79      0.80      0.79      7154\n",
      "\n"
     ]
    },
    {
     "name": "stderr",
     "output_type": "stream",
     "text": [
      "100%|██████████| 2087/2087 [04:37<00:00,  7.53it/s]\n",
      "Validating Epoch 8:   1%|          | 2/224 [00:00<00:15, 14.37it/s]"
     ]
    },
    {
     "name": "stdout",
     "output_type": "stream",
     "text": [
      "Epoch 8/8 - Training loss: 109.6181\n"
     ]
    },
    {
     "name": "stderr",
     "output_type": "stream",
     "text": [
      "Validating Epoch 8: 100%|██████████| 224/224 [00:15<00:00, 14.81it/s]"
     ]
    },
    {
     "name": "stdout",
     "output_type": "stream",
     "text": [
      "Validation Accuracy: 0.8114\n",
      "                     precision    recall  f1-score   support\n",
      "\n",
      "                age       0.98      0.98      0.98      1199\n",
      "          ethnicity       0.98      0.98      0.98      1194\n",
      "             gender       0.89      0.84      0.86      1196\n",
      "  not_cyberbullying       0.52      0.60      0.56      1192\n",
      "other_cyberbullying       0.55      0.51      0.53      1173\n",
      "           religion       0.96      0.96      0.96      1200\n",
      "\n",
      "           accuracy                           0.81      7154\n",
      "          macro avg       0.81      0.81      0.81      7154\n",
      "       weighted avg       0.82      0.81      0.81      7154\n",
      "\n"
     ]
    },
    {
     "name": "stderr",
     "output_type": "stream",
     "text": [
      "\n"
     ]
    }
   ],
   "source": [
    "import torch\n",
    "from tqdm import tqdm\n",
    "from sklearn.metrics import classification_report, accuracy_score\n",
    "\n",
    "device = torch.device(\"mps\" if torch.backends.mps.is_available() else \"cpu\")\n",
    "model.to(device)\n",
    "best_accuracy = 0\n",
    "epochs = 8\n",
    "model.train()\n",
    "\n",
    "for epoch in range(epochs):\n",
    "    total_loss = 0\n",
    "    for batch in tqdm(train_loader):\n",
    "        input_ids = batch['input_ids'].to(device)\n",
    "        attention_mask = batch['attention_mask'].to(device)\n",
    "        labels = batch['labels'].to(device)\n",
    "\n",
    "        optimizer.zero_grad()\n",
    "        outputs = model(input_ids, attention_mask=attention_mask, labels=labels)\n",
    "\n",
    "        loss = outputs.loss\n",
    "        loss.backward()\n",
    "        optimizer.step()\n",
    "\n",
    "        total_loss += loss.item()\n",
    "    \n",
    "    scheduler.step()\n",
    "    print(f\"Epoch {epoch + 1}/{epochs} - Training loss: {total_loss:.4f}\")\n",
    "\n",
    "    # Validation\n",
    "    model.eval()\n",
    "    all_preds, all_labels = [], []\n",
    "\n",
    "    with torch.no_grad():\n",
    "        for batch in tqdm(val_loader, desc=f\"Validating Epoch {epoch+1}\"):\n",
    "            input_ids = batch['input_ids'].to(device)\n",
    "            attention_mask = batch['attention_mask'].to(device)\n",
    "            labels = batch['labels'].to(device)\n",
    "\n",
    "            outputs = model(input_ids, attention_mask=attention_mask)\n",
    "            preds = torch.argmax(outputs.logits, axis=1)\n",
    "\n",
    "            all_preds.extend(preds.cpu().numpy())\n",
    "            all_labels.extend(labels.cpu().numpy())\n",
    "\n",
    "    acc = accuracy_score(all_labels, all_preds)\n",
    "    print(f\"Validation Accuracy: {acc:.4f}\")\n",
    "    print(classification_report(all_labels, all_preds, target_names=le.classes_))\n",
    "\n",
    "    if acc > best_accuracy:\n",
    "        best_accuracy = acc\n",
    "        torch.save(model.state_dict(), \"best_model.pt\")\n",
    "        print(f\" Best model saved at epoch {epoch+1} with accuracy {acc:.4f}\")\n"
   ]
  },
  {
   "cell_type": "code",
   "execution_count": 55,
   "id": "f759c5a9",
   "metadata": {},
   "outputs": [],
   "source": [
    "def test_model(model, test_loader):\n",
    "    model.eval()\n",
    "    all_preds, all_labels = [], []\n",
    "\n",
    "    with torch.no_grad():\n",
    "        for batch in tqdm(test_loader, desc=\"Testing\"):\n",
    "            input_ids = batch['input_ids'].to(device)\n",
    "            attention_mask = batch['attention_mask'].to(device)\n",
    "            labels = batch['labels'].to(device)\n",
    "\n",
    "            outputs = model(input_ids, attention_mask=attention_mask)\n",
    "            preds = torch.argmax(outputs.logits, axis=1)\n",
    "\n",
    "            all_preds.extend(preds.cpu().numpy())\n",
    "            all_labels.extend(labels.cpu().numpy())\n",
    "\n",
    "    acc = accuracy_score(all_labels, all_preds)\n",
    "    print(f\"\\n Final Test Accuracy: {acc:.4f}\")\n",
    "    print(classification_report(all_labels, all_preds, target_names=le.classes_))\n"
   ]
  },
  {
   "cell_type": "code",
   "execution_count": null,
   "id": "337b05f1",
   "metadata": {},
   "outputs": [
    {
     "name": "stderr",
     "output_type": "stream",
     "text": [
      "Testing: 100%|██████████| 224/224 [00:15<00:00, 14.75it/s]"
     ]
    },
    {
     "name": "stdout",
     "output_type": "stream",
     "text": [
      "\n",
      " Final Test Accuracy: 0.8228\n",
      "                     precision    recall  f1-score   support\n",
      "\n",
      "                age       0.98      0.98      0.98      1199\n",
      "          ethnicity       0.98      0.99      0.99      1194\n",
      "             gender       0.84      0.89      0.87      1196\n",
      "  not_cyberbullying       0.56      0.56      0.56      1192\n",
      "other_cyberbullying       0.59      0.56      0.58      1174\n",
      "           religion       0.96      0.95      0.95      1199\n",
      "\n",
      "           accuracy                           0.82      7154\n",
      "          macro avg       0.82      0.82      0.82      7154\n",
      "       weighted avg       0.82      0.82      0.82      7154\n",
      "\n"
     ]
    },
    {
     "name": "stderr",
     "output_type": "stream",
     "text": [
      "\n"
     ]
    }
   ],
   "source": [
    "model.load_state_dict(torch.load(\"best_model.pt\"))\n",
    "model.to(device)\n",
    "model.eval()\n",
    "\n",
    "test_model(model, test_loader)  \n"
   ]
  },
  {
   "cell_type": "markdown",
   "id": "cfe53864",
   "metadata": {},
   "source": [
    "## Pulling real time tweets to classify the tweets Real Time"
   ]
  },
  {
   "cell_type": "code",
   "execution_count": null,
   "id": "f4ceec81",
   "metadata": {},
   "outputs": [
    {
     "name": "stdout",
     "output_type": "stream",
     "text": [
      "               Date Created  Number of Likes Source  \\\n",
      "0 2025-05-04 21:23:07+00:00                0   None   \n",
      "1 2025-05-04 21:20:10+00:00                0   None   \n",
      "2 2025-05-04 21:14:49+00:00                1   None   \n",
      "3 2025-05-04 21:14:28+00:00                0   None   \n",
      "4 2025-05-04 21:14:02+00:00                1   None   \n",
      "5 2025-05-04 21:10:26+00:00                0   None   \n",
      "6 2025-05-04 21:08:10+00:00                0   None   \n",
      "7 2025-05-04 21:06:25+00:00                4   None   \n",
      "8 2025-05-04 21:03:58+00:00                0   None   \n",
      "9 2025-05-04 21:02:50+00:00                0   None   \n",
      "\n",
      "                                               Tweet  \n",
      "0  MAGA feels threatened by cultural and racial d...  \n",
      "1  Stop hacking my feed and saying I’m talking to...  \n",
      "2  Never expected to have to clarify this, but bo...  \n",
      "3  The entire point of this website is to drive r...  \n",
      "4  I started a GiveSendGo in hopes of going back ...  \n",
      "5  Islam’s Stance on equality 🧵 \\n\\n1/ Islam teac...  \n",
      "6  Vacava? Civil war? To finally put an end to al...  \n",
      "7  Dems be like... we figured out American racial...  \n",
      "8  Ultimately, it’s only the Holy Spirit who can ...  \n",
      "9  Enjoying a backyard grilled steak with corn on...  \n"
     ]
    }
   ],
   "source": [
    "import tweepy\n",
    "import pandas as pd\n",
    "from config import BEARER_TOKEN  \n",
    "\n",
    "\n",
    "client = tweepy.Client(bearer_token=BEARER_TOKEN)\n",
    "\n",
    "search_query = \"racial -is:retweet -is:reply -has:links lang:en\"  \n",
    "\n",
    "\n",
    "response = client.search_recent_tweets(\n",
    "    query=search_query,\n",
    "    max_results=10,\n",
    "    tweet_fields=[\"created_at\", \"public_metrics\", \"source\", \"text\"]\n",
    ")\n",
    "\n",
    "\n",
    "tweets_data = []\n",
    "for tweet in response.data:\n",
    "    tweets_data.append([\n",
    "        tweet.created_at,\n",
    "        tweet.public_metrics.get(\"like_count\", 0),\n",
    "        tweet.source if hasattr(tweet, \"source\") else \"N/A\",\n",
    "        tweet.text\n",
    "    ])\n",
    "\n",
    "\n",
    "df = pd.DataFrame(tweets_data, columns=[\"Date Created\", \"Number of Likes\", \"Source\", \"Tweet\"])\n",
    "print(df)\n"
   ]
  },
  {
   "cell_type": "code",
   "execution_count": 67,
   "id": "512d4b17",
   "metadata": {},
   "outputs": [],
   "source": [
    "df.to_csv(\"fetched_tweets.csv\", index=False, encoding='utf-8')\n"
   ]
  },
  {
   "cell_type": "code",
   "execution_count": null,
   "id": "8a5b3515",
   "metadata": {},
   "outputs": [
    {
     "name": "stderr",
     "output_type": "stream",
     "text": [
      "Some weights of DistilBertForSequenceClassification were not initialized from the model checkpoint at distilbert-base-uncased and are newly initialized: ['classifier.bias', 'classifier.weight', 'pre_classifier.bias', 'pre_classifier.weight']\n",
      "You should probably TRAIN this model on a down-stream task to be able to use it for predictions and inference.\n"
     ]
    },
    {
     "data": {
      "text/plain": [
       "DistilBertForSequenceClassification(\n",
       "  (distilbert): DistilBertModel(\n",
       "    (embeddings): Embeddings(\n",
       "      (word_embeddings): Embedding(30522, 768, padding_idx=0)\n",
       "      (position_embeddings): Embedding(512, 768)\n",
       "      (LayerNorm): LayerNorm((768,), eps=1e-12, elementwise_affine=True)\n",
       "      (dropout): Dropout(p=0.1, inplace=False)\n",
       "    )\n",
       "    (transformer): Transformer(\n",
       "      (layer): ModuleList(\n",
       "        (0-5): 6 x TransformerBlock(\n",
       "          (attention): DistilBertSdpaAttention(\n",
       "            (dropout): Dropout(p=0.1, inplace=False)\n",
       "            (q_lin): Linear(in_features=768, out_features=768, bias=True)\n",
       "            (k_lin): Linear(in_features=768, out_features=768, bias=True)\n",
       "            (v_lin): Linear(in_features=768, out_features=768, bias=True)\n",
       "            (out_lin): Linear(in_features=768, out_features=768, bias=True)\n",
       "          )\n",
       "          (sa_layer_norm): LayerNorm((768,), eps=1e-12, elementwise_affine=True)\n",
       "          (ffn): FFN(\n",
       "            (dropout): Dropout(p=0.1, inplace=False)\n",
       "            (lin1): Linear(in_features=768, out_features=3072, bias=True)\n",
       "            (lin2): Linear(in_features=3072, out_features=768, bias=True)\n",
       "            (activation): GELUActivation()\n",
       "          )\n",
       "          (output_layer_norm): LayerNorm((768,), eps=1e-12, elementwise_affine=True)\n",
       "        )\n",
       "      )\n",
       "    )\n",
       "  )\n",
       "  (pre_classifier): Linear(in_features=768, out_features=768, bias=True)\n",
       "  (classifier): Linear(in_features=768, out_features=6, bias=True)\n",
       "  (dropout): Dropout(p=0.2, inplace=False)\n",
       ")"
      ]
     },
     "execution_count": 70,
     "metadata": {},
     "output_type": "execute_result"
    }
   ],
   "source": [
    "from transformers import DistilBertTokenizerFast, DistilBertForSequenceClassification\n",
    "import torch\n",
    "import pandas as pd\n",
    "from torch.nn.functional import softmax\n",
    "\n",
    "tokenizer = DistilBertTokenizerFast.from_pretrained(\"distilbert-base-uncased\")\n",
    "model = DistilBertForSequenceClassification.from_pretrained(\"distilbert-base-uncased\", num_labels=6)\n",
    "model.load_state_dict(torch.load(\"best_model.pt\", map_location=torch.device('cpu')))\n",
    "model.eval()\n"
   ]
  },
  {
   "cell_type": "code",
   "execution_count": null,
   "id": "ad35acfb",
   "metadata": {},
   "outputs": [],
   "source": [
    "\n",
    "df = pd.read_csv(\"fetched_tweets.csv\")\n",
    "texts = df[\"Tweet\"].astype(str).tolist()\n",
    "\n",
    "encodings = tokenizer(texts, padding=True, truncation=True, return_tensors=\"pt\")\n",
    "\n",
    "with torch.no_grad():\n",
    "    outputs = model(input_ids=encodings[\"input_ids\"], attention_mask=encodings[\"attention_mask\"])\n",
    "    probs = softmax(outputs.logits, dim=1)\n",
    "    predictions = torch.argmax(probs, dim=1).numpy()\n"
   ]
  },
  {
   "cell_type": "code",
   "execution_count": null,
   "id": "44b2d2f8",
   "metadata": {},
   "outputs": [
    {
     "name": "stdout",
     "output_type": "stream",
     "text": [
      "Tweets classified and saved to 'classified_tweets.csv'\n"
     ]
    }
   ],
   "source": [
    "\n",
    "label_map = {\n",
    "    0: \"age\",\n",
    "    1: \"ethnicity\",\n",
    "    2: \"gender\",\n",
    "    3: \"not_cyberbullying\",\n",
    "    4: \"other_cyberbullying\",\n",
    "    5: \"religion\"\n",
    "}\n",
    "\n",
    "df[\"Prediction\"] = predictions\n",
    "df[\"Label\"] = df[\"Prediction\"].map(label_map)\n",
    "\n",
    "\n",
    "df.to_csv(\"classified_tweets.csv\", index=False)\n",
    "print(\"Tweets classified and saved to 'classified_tweets.csv'\")\n"
   ]
  },
  {
   "cell_type": "code",
   "execution_count": null,
   "id": "3aa5d9dc",
   "metadata": {},
   "outputs": [
    {
     "data": {
      "text/html": [
       "<div>\n",
       "<style scoped>\n",
       "    .dataframe tbody tr th:only-of-type {\n",
       "        vertical-align: middle;\n",
       "    }\n",
       "\n",
       "    .dataframe tbody tr th {\n",
       "        vertical-align: top;\n",
       "    }\n",
       "\n",
       "    .dataframe thead th {\n",
       "        text-align: right;\n",
       "    }\n",
       "</style>\n",
       "<table border=\"1\" class=\"dataframe\">\n",
       "  <thead>\n",
       "    <tr style=\"text-align: right;\">\n",
       "      <th></th>\n",
       "      <th>Date Created</th>\n",
       "      <th>Number of Likes</th>\n",
       "      <th>Source</th>\n",
       "      <th>Tweet</th>\n",
       "      <th>Prediction</th>\n",
       "      <th>Label</th>\n",
       "    </tr>\n",
       "  </thead>\n",
       "  <tbody>\n",
       "    <tr>\n",
       "      <th>0</th>\n",
       "      <td>2025-05-04 21:23:07+00:00</td>\n",
       "      <td>0</td>\n",
       "      <td>NaN</td>\n",
       "      <td>MAGA feels threatened by cultural and racial differences - evil when it hurts others for no reason beyond childish misdirected hate. Billionaires ripped the guts out of America with their greed - and will do it again.  Not fault of migrants or Muslims - fault of men like those</td>\n",
       "      <td>5</td>\n",
       "      <td>religion</td>\n",
       "    </tr>\n",
       "    <tr>\n",
       "      <th>1</th>\n",
       "      <td>2025-05-04 21:20:10+00:00</td>\n",
       "      <td>0</td>\n",
       "      <td>NaN</td>\n",
       "      <td>Stop hacking my feed and saying I’m talking to you ninjas. I dunno anybody and I’m to arms length for comfort for you to know me so please don’t do the uh clout chase thing . If I date in the future it will only be middle eastern and white appearing men or MULTI RACIAL no bi</td>\n",
       "      <td>1</td>\n",
       "      <td>ethnicity</td>\n",
       "    </tr>\n",
       "    <tr>\n",
       "      <th>2</th>\n",
       "      <td>2025-05-04 21:14:49+00:00</td>\n",
       "      <td>1</td>\n",
       "      <td>NaN</td>\n",
       "      <td>Never expected to have to clarify this, but both murder and directing racial slurs at a child are wrong.\\nAlso, murder is worse.\\nAny conversation thereafter should begin by recognizing those two truths.</td>\n",
       "      <td>0</td>\n",
       "      <td>age</td>\n",
       "    </tr>\n",
       "    <tr>\n",
       "      <th>3</th>\n",
       "      <td>2025-05-04 21:14:28+00:00</td>\n",
       "      <td>0</td>\n",
       "      <td>NaN</td>\n",
       "      <td>The entire point of this website is to drive racial hatred it really seems.</td>\n",
       "      <td>1</td>\n",
       "      <td>ethnicity</td>\n",
       "    </tr>\n",
       "    <tr>\n",
       "      <th>4</th>\n",
       "      <td>2025-05-04 21:14:02+00:00</td>\n",
       "      <td>1</td>\n",
       "      <td>NaN</td>\n",
       "      <td>I started a GiveSendGo in hopes of going back to school for IT to provide a better life for my kids, but I didn't call anyone a racial slur or stab anyone so I guess fuck me.</td>\n",
       "      <td>0</td>\n",
       "      <td>age</td>\n",
       "    </tr>\n",
       "    <tr>\n",
       "      <th>5</th>\n",
       "      <td>2025-05-04 21:10:26+00:00</td>\n",
       "      <td>0</td>\n",
       "      <td>NaN</td>\n",
       "      <td>Islam’s Stance on equality 🧵 \\n\\n1/ Islam teaches that all humanity descends from Adam, uniting us as one family. The Quran (49:13) states: “We made you into nations and tribes to know one another.” Racial distinctions are for recognition, not division. Equality is divine.</td>\n",
       "      <td>5</td>\n",
       "      <td>religion</td>\n",
       "    </tr>\n",
       "    <tr>\n",
       "      <th>6</th>\n",
       "      <td>2025-05-04 21:08:10+00:00</td>\n",
       "      <td>0</td>\n",
       "      <td>NaN</td>\n",
       "      <td>Vacava? Civil war? To finally put an end to all this prejudice on both sides of the racial divide?</td>\n",
       "      <td>1</td>\n",
       "      <td>ethnicity</td>\n",
       "    </tr>\n",
       "    <tr>\n",
       "      <th>7</th>\n",
       "      <td>2025-05-04 21:06:25+00:00</td>\n",
       "      <td>4</td>\n",
       "      <td>NaN</td>\n",
       "      <td>Dems be like... we figured out American racial harmony, let me introduce you to a concept and slogan we call ALL LIVES MATTER</td>\n",
       "      <td>1</td>\n",
       "      <td>ethnicity</td>\n",
       "    </tr>\n",
       "    <tr>\n",
       "      <th>8</th>\n",
       "      <td>2025-05-04 21:03:58+00:00</td>\n",
       "      <td>0</td>\n",
       "      <td>NaN</td>\n",
       "      <td>Ultimately, it’s only the Holy Spirit who can bring about society’s transformation. It’s the Spirit who brings unity, breaking down divisions of gender, race &amp;amp; social position. Those indwelt by the Spirit should be fighting for gender, racial &amp;amp; social equality. @nickygumbel⁩</td>\n",
       "      <td>5</td>\n",
       "      <td>religion</td>\n",
       "    </tr>\n",
       "    <tr>\n",
       "      <th>9</th>\n",
       "      <td>2025-05-04 21:02:50+00:00</td>\n",
       "      <td>0</td>\n",
       "      <td>NaN</td>\n",
       "      <td>Enjoying a backyard grilled steak with corn on the cob and a baked potato with the wife of 43 years watching college baseball with no out of control players, at commercial go to golf also no racial drama. With decent politicians it is the golden era.</td>\n",
       "      <td>0</td>\n",
       "      <td>age</td>\n",
       "    </tr>\n",
       "  </tbody>\n",
       "</table>\n",
       "</div>"
      ],
      "text/plain": [
       "                Date Created  Number of Likes  Source  \\\n",
       "0  2025-05-04 21:23:07+00:00                0     NaN   \n",
       "1  2025-05-04 21:20:10+00:00                0     NaN   \n",
       "2  2025-05-04 21:14:49+00:00                1     NaN   \n",
       "3  2025-05-04 21:14:28+00:00                0     NaN   \n",
       "4  2025-05-04 21:14:02+00:00                1     NaN   \n",
       "5  2025-05-04 21:10:26+00:00                0     NaN   \n",
       "6  2025-05-04 21:08:10+00:00                0     NaN   \n",
       "7  2025-05-04 21:06:25+00:00                4     NaN   \n",
       "8  2025-05-04 21:03:58+00:00                0     NaN   \n",
       "9  2025-05-04 21:02:50+00:00                0     NaN   \n",
       "\n",
       "                                                                                                                                                                                                                                                                                         Tweet  \\\n",
       "0        MAGA feels threatened by cultural and racial differences - evil when it hurts others for no reason beyond childish misdirected hate. Billionaires ripped the guts out of America with their greed - and will do it again.  Not fault of migrants or Muslims - fault of men like those   \n",
       "1          Stop hacking my feed and saying I’m talking to you ninjas. I dunno anybody and I’m to arms length for comfort for you to know me so please don’t do the uh clout chase thing . If I date in the future it will only be middle eastern and white appearing men or MULTI RACIAL no bi   \n",
       "2                                                                                  Never expected to have to clarify this, but both murder and directing racial slurs at a child are wrong.\\nAlso, murder is worse.\\nAny conversation thereafter should begin by recognizing those two truths.   \n",
       "3                                                                                                                                                                                                                  The entire point of this website is to drive racial hatred it really seems.   \n",
       "4                                                                                                               I started a GiveSendGo in hopes of going back to school for IT to provide a better life for my kids, but I didn't call anyone a racial slur or stab anyone so I guess fuck me.   \n",
       "5            Islam’s Stance on equality 🧵 \\n\\n1/ Islam teaches that all humanity descends from Adam, uniting us as one family. The Quran (49:13) states: “We made you into nations and tribes to know one another.” Racial distinctions are for recognition, not division. Equality is divine.   \n",
       "6                                                                                                                                                                                           Vacava? Civil war? To finally put an end to all this prejudice on both sides of the racial divide?   \n",
       "7                                                                                                                                                                Dems be like... we figured out American racial harmony, let me introduce you to a concept and slogan we call ALL LIVES MATTER   \n",
       "8  Ultimately, it’s only the Holy Spirit who can bring about society’s transformation. It’s the Spirit who brings unity, breaking down divisions of gender, race &amp; social position. Those indwelt by the Spirit should be fighting for gender, racial &amp; social equality. @nickygumbel⁩   \n",
       "9                                   Enjoying a backyard grilled steak with corn on the cob and a baked potato with the wife of 43 years watching college baseball with no out of control players, at commercial go to golf also no racial drama. With decent politicians it is the golden era.   \n",
       "\n",
       "   Prediction      Label  \n",
       "0           5   religion  \n",
       "1           1  ethnicity  \n",
       "2           0        age  \n",
       "3           1  ethnicity  \n",
       "4           0        age  \n",
       "5           5   religion  \n",
       "6           1  ethnicity  \n",
       "7           1  ethnicity  \n",
       "8           5   religion  \n",
       "9           0        age  "
      ]
     },
     "execution_count": 73,
     "metadata": {},
     "output_type": "execute_result"
    }
   ],
   "source": [
    "import pandas as pd\n",
    "df = pd.read_csv(\"classified_tweets.csv\", encoding='utf-8', quoting=1)\n",
    "pd.set_option('display.max_colwidth', None)\n",
    "df.head(10)\n"
   ]
  }
 ],
 "metadata": {
  "kernelspec": {
   "display_name": "cybi",
   "language": "python",
   "name": "python3"
  },
  "language_info": {
   "codemirror_mode": {
    "name": "ipython",
    "version": 3
   },
   "file_extension": ".py",
   "mimetype": "text/x-python",
   "name": "python",
   "nbconvert_exporter": "python",
   "pygments_lexer": "ipython3",
   "version": "3.9.16"
  }
 },
 "nbformat": 4,
 "nbformat_minor": 5
}
